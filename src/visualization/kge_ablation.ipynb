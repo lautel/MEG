{
 "cells": [
  {
   "cell_type": "code",
   "execution_count": null,
   "metadata": {
    "vscode": {
     "languageId": "plaintext"
    }
   },
   "outputs": [],
   "source": [
    "import matplotlib.pyplot as plt\n",
    "import numpy as np\n",
    "import matplotlib.cm as cmx\n",
    "from google.colab import files\n",
    "\n",
    "# set font\n",
    "plt.rcParams.update({'font.size': 17})\n",
    "\n",
    "# Data from the table\n",
    "models = ['SapBERT', 'RDF2Vec', 'DistMult', 'GraphSAGE', 'eGraphSAGE']\n",
    "# Link Classification\n",
    "y_values_acc = [53.5, 41.0, 32.6, 44.1, 73.9]  # (acc)\n",
    "# MedQA\n",
    "y_values_zs = [42.4, 42.9, 40.6, 42.0, 41.7]   # Zero-Shot (acc)\n",
    "y_values_oov = [9.8, 14.8, 7.9, 11.5, 11.8]  # (%) NA\n",
    "# y_values_ft = [53.4, 52.1, 52.4, 54.2, 53.7]   # FT (acc)\n",
    "y_values_ft = [53.4, 52.1, 52.4, 54.2, 53.7]   # FT (acc)\n",
    "# text_f1 = 52.7  # Text (FT acc)\n",
    "# random_acc = 1.0  # Random (Link Classification)\n",
    "random_zs_f1 = 41.1  # Random (Zero-shot acc)\n",
    "random_f1 = 42.1  # Random (FT acc)\n",
    "\n",
    "# Create figure and bar plot\n",
    "x = np.arange(len(models))  # label locations\n",
    "width = 0.25  # width of the bars\n",
    "\n",
    "fig, ax = plt.subplots(figsize=(10, 6))\n",
    "\n",
    "\n",
    "# Bars for Accuracy and F1 scores\n",
    "rects1 = ax.bar(x - width, y_values_acc, width, label='Edge C.',color='orange')\n",
    "rects2 = ax.bar(x, y_values_zs, width, label='MedQA (ZS)', hatch='//', color='lightblue')\n",
    "rects3 = ax.bar(x + width, y_values_ft, width, label='MedQA (FT)', hatch='\\\\', color='royalblue')\n",
    "\n",
    "# Add horizontal lines for Text and Random baselines\n",
    "# ax.axhline(y=text_f1, color='blue', linestyle='--', label='(rnd)')\n",
    "ax.axhline(y=random_zs_f1, color='lightblue', linestyle='--')\n",
    "ax.axhline(y=random_f1, color='royalblue', linestyle='--')\n",
    "\n",
    "# Add second y-axis for OOV\n",
    "ax2 = ax.twinx()\n",
    "ax2.scatter(x, y_values_oov, color='firebrick', zorder=7, marker=\"D\")\n",
    "ax2.set_ylabel('% NA in MedQA (ZS)', color='firebrick')\n",
    "ax2.tick_params(axis='y', colors='firebrick')\n",
    "\n",
    "# Add labels, title, and custom x-axis tick labels\n",
    "ax.set_xlabel('Encoders')\n",
    "ax.set_ylabel('Acc')\n",
    "# ax.set_title('Comparison of Link Classification (Acc) and FT (F1) across Models')\n",
    "ax.set_xticks(x)\n",
    "ax.set_xticklabels(models)\n",
    "ax.legend(loc=\"upper left\")\n",
    "\n",
    "# Show the plot\n",
    "plt.tight_layout()\n",
    "plt.show()\n",
    "# plt.savefig('comparative_encoders.pdf', bbox_inches='tight')\n",
    "# files.download(\"comparative_encoders.pdf\")"
   ]
  }
 ],
 "metadata": {
  "language_info": {
   "name": "python"
  }
 },
 "nbformat": 4,
 "nbformat_minor": 2
}
